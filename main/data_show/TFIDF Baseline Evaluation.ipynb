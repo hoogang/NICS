{
 "cells": [
  {
   "cell_type": "code",
   "execution_count": 1,
   "metadata": {},
   "outputs": [],
   "source": [
    "import pandas as pd\n",
    "import numpy as np\n",
    "from sklearn.feature_extraction.text import TfidfVectorizer\n",
    "from sklearn.feature_extraction.text import TfidfTransformer"
   ]
  },
  {
   "cell_type": "code",
   "execution_count": 2,
   "metadata": {},
   "outputs": [],
   "source": [
    "# Load Data\n",
    "train_df = pd.read_csv(\"../prod_corpus/csharp_train_shuffle.csv\",encoding='gb2312')\n",
    "test_df = pd.read_csv(\"../prod_corpus/csharp_valid_shuffle.csv\",encoding='gb2312')\n",
    "valid_df = pd.read_csv(\"../prod_corpus/csharp_test_shuffle.csv\",encoding='gb2312')\n",
    "y_test = np.zeros(len(test_df))"
   ]
  },
  {
   "cell_type": "code",
   "execution_count": 3,
   "metadata": {},
   "outputs": [],
   "source": [
    "def evaluate_recall(y, y_test, k=1):\n",
    "    num_examples = float(len(y))\n",
    "    num_correct = 0\n",
    "    for predictions, label in zip(y, y_test):\n",
    "        if label in predictions[:k]:\n",
    "            num_correct += 1\n",
    "    return num_correct/num_examples"
   ]
  },
  {
   "cell_type": "code",
   "execution_count": 4,
   "metadata": {},
   "outputs": [],
   "source": [
    "def predict_random(query, code):\n",
    "    return np.random.choice(len(code), 10, replace=False)"
   ]
  },
  {
   "cell_type": "code",
   "execution_count": 5,
   "metadata": {},
   "outputs": [
    {
     "name": "stdout",
     "output_type": "stream",
     "text": [
      "Recall @ (1, 10): 0.096603\n",
      "Recall @ (2, 10): 0.192903\n",
      "Recall @ (5, 10): 0.499545\n",
      "Recall @ (6, 10): 0.595693\n",
      "Recall @ (10, 10): 1.000000\n"
     ]
    }
   ],
   "source": [
    "# Evaluate Random predictor\n",
    "y_random = [predict_random(test_df['query'][x], test_df.iloc[x,1:].values) for x in range(len(test_df))]\n",
    "for n in [1, 2, 5, 6,10]:\n",
    "    print(\"Recall @ (%d, 10): %f\"%(n, evaluate_recall(y_random, y_test, n)))"
   ]
  },
  {
   "cell_type": "code",
   "execution_count": 6,
   "metadata": {},
   "outputs": [],
   "source": [
    "class TFIDFPredictor:\n",
    "    def __init__(self):\n",
    "        self.vectorizer = TfidfVectorizer()\n",
    "\n",
    "    def train(self, data):\n",
    "        self.vectorizer.fit(np.append(data['query'].values,data['code'].values))\n",
    "\n",
    "    def predict(self, query, code):\n",
    "        # Convert context and utterances into tfidf vector\n",
    "        vector_query = self.vectorizer.transform([query])\n",
    "        vector_code  = self.vectorizer.transform(code)\n",
    "        # The dot product measures the similarity of the resulting vectors\n",
    "        result = np.dot(vector_code, vector_query.T).todense()\n",
    "        result = np.asarray(result).flatten()\n",
    "        # Sort by top results and return tvalidhe indices in descending order\n",
    "        return np.argsort(result, axis=0)[::-1]"
   ]
  },
  {
   "cell_type": "code",
   "execution_count": 7,
   "metadata": {},
   "outputs": [
    {
     "name": "stdout",
     "output_type": "stream",
     "text": [
      "Recall @ (1, 10): 0.394146}\n",
      "Recall @ (2, 10): 0.446315}\n",
      "Recall @ (5, 10): 0.475887}\n",
      "Recall @ (6, 10): 0.476039}\n",
      "Recall @ (10, 10): 1.000000}\n"
     ]
    }
   ],
   "source": [
    "# Evaluate TFIDF predictor\n",
    "pred = TFIDFPredictor()\n",
    "pred.train(train_df)\n",
    "y = [pred.predict(test_df['query'][x], test_df.iloc[x,1:].values) for x in range(len(test_df))]\n",
    "for n in [1, 2, 5, 6, 10]:\n",
    "    print(\"Recall @ (%d, 10): %f}\"%(n, evaluate_recall(y, y_test, n)))"
   ]
  },
  {
   "cell_type": "code",
   "execution_count": null,
   "metadata": {},
   "outputs": [],
   "source": []
  }
 ],
 "metadata": {
  "kernelspec": {
   "display_name": "Python 3",
   "language": "python",
   "name": "python3"
  },
  "language_info": {
   "codemirror_mode": {
    "name": "ipython",
    "version": 3
   },
   "file_extension": ".py",
   "mimetype": "text/x-python",
   "name": "python",
   "nbconvert_exporter": "python",
   "pygments_lexer": "ipython3",
   "version": "3.5.2"
  }
 },
 "nbformat": 4,
 "nbformat_minor": 1
}
